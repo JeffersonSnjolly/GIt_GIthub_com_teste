{
 "cells": [
  {
   "cell_type": "code",
   "execution_count": 1,
   "metadata": {},
   "outputs": [],
   "source": [
    "import pandas as pd"
   ]
  },
  {
   "cell_type": "code",
   "execution_count": 2,
   "metadata": {},
   "outputs": [],
   "source": [
    "#tipo de variaves\n",
    "frase = 'Jefferson'\n",
    "idade = 34\n",
    "altura = 1.82\n",
    "fome = True\n",
    "comidas =['Bolo de milho', 'café']"
   ]
  },
  {
   "cell_type": "code",
   "execution_count": 3,
   "metadata": {},
   "outputs": [
    {
     "name": "stdout",
     "output_type": "stream",
     "text": [
      "Frase  <class 'str'>\n",
      "Idade <class 'int'>\n",
      "Altura  <class 'float'>\n",
      "Fome  <class 'bool'>\n",
      "Comidas <class 'list'>\n"
     ]
    }
   ],
   "source": [
    "#tipo de variaves\n",
    "print('Frase ',type(frase))\n",
    "print('Idade', type(idade))\n",
    "print('Altura ', type(altura))\n",
    "print('Fome ',type(fome))\n",
    "print('Comidas',type(comidas))"
   ]
  },
  {
   "cell_type": "code",
   "execution_count": 4,
   "metadata": {},
   "outputs": [
    {
     "name": "stdout",
     "output_type": "stream",
     "text": [
      "Adição  15\n",
      "Subtração  5\n",
      "Multiplicação  50\n",
      "Divisão  2.0\n",
      "Exponênciação  100000\n",
      "Divisão inteira  2\n",
      "Resto da divisão  0\n"
     ]
    }
   ],
   "source": [
    "#Operadores Aritimeticos\n",
    "num1 = 10\n",
    "num2 = 5\n",
    "\n",
    "adicao = num1+num2\n",
    "print('Adição ', adicao)\n",
    "subtracao = num1-num2\n",
    "print('Subtração ', subtracao)\n",
    "multiplicacao = num1*num2\n",
    "print('Multiplicação ', multiplicacao)\n",
    "divisao = num1/num2\n",
    "print('Divisão ', divisao)\n",
    "expo = num1**num2\n",
    "print('Exponênciação ', expo)\n",
    "divInteira = num1//num2\n",
    "print('Divisão inteira ', divInteira)\n",
    "resto = num1%num2\n",
    "print('Resto da divisão ', resto)\n"
   ]
  },
  {
   "cell_type": "code",
   "execution_count": 5,
   "metadata": {},
   "outputs": [
    {
     "name": "stdout",
     "output_type": "stream",
     "text": [
      "São Diferentes:\n",
      "Numero um é menor que o segundo:\n",
      "Numero um é menor ou igual ao segundo:\n"
     ]
    }
   ],
   "source": [
    "#Operadores de comparação\n",
    "comp1 = 1\n",
    "comp2 = 10\n",
    "\n",
    "if comp1 == comp2:\n",
    "    print('Numeros são iguais:')\n",
    "if comp1 != comp2:\n",
    "    print('São Diferentes:')\n",
    "if comp1 > comp2:\n",
    "    print('numero um é maior que o segundo:')\n",
    "if comp1 >= comp2:\n",
    "    print('Numero um é maior ou igual ao segundo')\n",
    "if comp1 < comp2:\n",
    "    print('Numero um é menor que o segundo:')\n",
    "if comp1 <= comp2:\n",
    "    print('Numero um é menor ou igual ao segundo:')"
   ]
  },
  {
   "cell_type": "code",
   "execution_count": 6,
   "metadata": {},
   "outputs": [
    {
     "name": "stdout",
     "output_type": "stream",
     "text": [
      "10\n",
      "11\n",
      "10\n",
      "20\n",
      "10.0\n",
      "1.0\n"
     ]
    }
   ],
   "source": [
    "#OPERADORES DE ATRIBUIÇÃO\n",
    "atribuicao = 10\n",
    "print(atribuicao)\n",
    "atribuicao += 1\n",
    "print(atribuicao)\n",
    "atribuicao -= 1\n",
    "print(atribuicao)\n",
    "atribuicao *= 2\n",
    "print(atribuicao)\n",
    "atribuicao /= 2\n",
    "print(atribuicao)\n",
    "atribuicao %= 3\n",
    "print(atribuicao)"
   ]
  },
  {
   "cell_type": "code",
   "execution_count": 7,
   "metadata": {},
   "outputs": [
    {
     "name": "stdout",
     "output_type": "stream",
     "text": [
      "Jefferson santos silva\n",
      "Quantidade de caracteres 22\n",
      "J\n",
      "Jefferson\n",
      "santo\n",
      "silva\n",
      "santos silva\n"
     ]
    }
   ],
   "source": [
    "#FOPMATAÇÃO DE STRING\n",
    "nome = 'Jefferson santos silva'\n",
    "print(nome)\n",
    "print('Quantidade de caracteres ' + str(len(nome)))\n",
    "print(nome[0])\n",
    "print(nome[0:9])\n",
    "print(nome[10:15])\n",
    "print(nome[17:22])\n",
    "print(nome[10:])"
   ]
  },
  {
   "cell_type": "code",
   "execution_count": 8,
   "metadata": {},
   "outputs": [
    {
     "name": "stdout",
     "output_type": "stream",
     "text": [
      "CuRSo dE lOGICa de PROgramação em pyTHon\n",
      "Curso de logica de programação em python\n",
      "JEFFERSON SANTOS SILVA\n",
      "jefferson santos silva\n"
     ]
    }
   ],
   "source": [
    "texto = 'CuRSo dE lOGICa de PROgramação em pyTHon'\n",
    "print(texto)\n",
    "print(texto.capitalize())\n",
    "print(nome.upper())\n",
    "print(nome.lower())"
   ]
  },
  {
   "cell_type": "code",
   "execution_count": 9,
   "metadata": {},
   "outputs": [
    {
     "name": "stdout",
     "output_type": "stream",
     "text": [
      "TIREI NOTA 10 NA PROVA\n"
     ]
    }
   ],
   "source": [
    "notaProva = 'Tirei nota cinco na prova'\n",
    "notaProva = notaProva.replace('cinco', '10')\n",
    "print(notaProva.upper())"
   ]
  },
  {
   "cell_type": "code",
   "execution_count": 10,
   "metadata": {},
   "outputs": [
    {
     "name": "stdout",
     "output_type": "stream",
     "text": [
      "365.239.078-48\n",
      "['365', '239', '078-48']\n",
      "365\n",
      "239\n",
      "078\n",
      "48\n"
     ]
    }
   ],
   "source": [
    "cpf ='365.239.078-48'\n",
    "print(cpf)\n",
    "cpfpart = cpf.split('.')\n",
    "cpfpart2 = cpfpart[2].split('-')\n",
    "print(cpfpart)\n",
    "print(cpfpart[0])\n",
    "print(cpfpart[1])\n",
    "print(cpfpart2[0])\n",
    "print(cpfpart2[1])"
   ]
  }
 ],
 "metadata": {
  "kernelspec": {
   "display_name": "base",
   "language": "python",
   "name": "python3"
  },
  "language_info": {
   "codemirror_mode": {
    "name": "ipython",
    "version": 3
   },
   "file_extension": ".py",
   "mimetype": "text/x-python",
   "name": "python",
   "nbconvert_exporter": "python",
   "pygments_lexer": "ipython3",
   "version": "3.10.9"
  },
  "orig_nbformat": 4,
  "vscode": {
   "interpreter": {
    "hash": "0ab64c826827f4a2f8682e13588057ccc1291c1cbdec742d79aea2a9a0e0828f"
   }
  }
 },
 "nbformat": 4,
 "nbformat_minor": 2
}
